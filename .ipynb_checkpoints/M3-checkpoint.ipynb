{
 "cells": [
  {
   "cell_type": "code",
   "execution_count": 1,
   "metadata": {},
   "outputs": [],
   "source": [
    "#******************************************Recursion******************************************"
   ]
  },
  {
   "cell_type": "code",
   "execution_count": 2,
   "metadata": {},
   "outputs": [],
   "source": [
    "#Recursion is calling a function within that function"
   ]
  },
  {
   "cell_type": "code",
   "execution_count": 4,
   "metadata": {},
   "outputs": [
    {
     "name": "stdout",
     "output_type": "stream",
     "text": [
      "3\n",
      "2\n",
      "1\n"
     ]
    },
    {
     "data": {
      "text/plain": [
       "0"
      ]
     },
     "execution_count": 4,
     "metadata": {},
     "output_type": "execute_result"
    }
   ],
   "source": [
    "#Zero Divisiion Error\n",
    "def identify_invalid_divisor(x):\n",
    "    try:\n",
    "        1 / x\n",
    "        print(x)\n",
    "        return identify_invalid_divisor(x-1)\n",
    "    except ZeroDivisionError:\n",
    "        return x\n",
    "identify_invalid_divisor(3)"
   ]
  },
  {
   "cell_type": "code",
   "execution_count": 17,
   "metadata": {},
   "outputs": [
    {
     "data": {
      "text/plain": [
       "[0, 1, 2, 3, 4, 5, 6, 7, 8, 9]"
      ]
     },
     "execution_count": 17,
     "metadata": {},
     "output_type": "execute_result"
    }
   ],
   "source": [
    "#flatten\n",
    "flat = []\n",
    "def flatten(x):\n",
    "    for i in x:\n",
    "        if isinstance(i, list): #isinstance() return True iff the specific object is of the specified type\n",
    "            t = flatten(i)\n",
    "        else:\n",
    "            flat.append(i)\n",
    "    return flat\n",
    "\n",
    "flatten([0,1,[[2,3],4],[5,6,[7,[8,[9]]]]])\n",
    "        \n",
    "     "
   ]
  },
  {
   "cell_type": "code",
   "execution_count": 18,
   "metadata": {},
   "outputs": [],
   "source": [
    "#********************************************Regex********************************************"
   ]
  },
  {
   "cell_type": "code",
   "execution_count": 19,
   "metadata": {},
   "outputs": [],
   "source": [
    "import re #这种搜索只能识别第一个"
   ]
  },
  {
   "cell_type": "code",
   "execution_count": 39,
   "metadata": {},
   "outputs": [],
   "source": [
    "x = \"This is my number 123-456-7890. Give me a call.\""
   ]
  },
  {
   "cell_type": "code",
   "execution_count": 30,
   "metadata": {},
   "outputs": [
    {
     "name": "stdout",
     "output_type": "stream",
     "text": [
      "<re.Match object; span=(5, 17), match='is my number'>\n"
     ]
    }
   ],
   "source": [
    "y1 = r\"is my number\"\n",
    "print(re.search(y1,x))"
   ]
  },
  {
   "cell_type": "code",
   "execution_count": 31,
   "metadata": {},
   "outputs": [
    {
     "name": "stdout",
     "output_type": "stream",
     "text": [
      "None\n"
     ]
    }
   ],
   "source": [
    "y2 = r\"^is my number\" #^ find things from the beginning\n",
    "print(re.search(y2,x))"
   ]
  },
  {
   "cell_type": "code",
   "execution_count": 32,
   "metadata": {},
   "outputs": [
    {
     "name": "stdout",
     "output_type": "stream",
     "text": [
      "<re.Match object; span=(40, 47), match='a call.'>\n"
     ]
    }
   ],
   "source": [
    "y3 = r\"a call.$\" #^ find things at the end\n",
    "print(re.search(y3,x))"
   ]
  },
  {
   "cell_type": "code",
   "execution_count": 42,
   "metadata": {},
   "outputs": [
    {
     "name": "stdout",
     "output_type": "stream",
     "text": [
      "<re.Match object; span=(0, 1), match='T'>\n"
     ]
    }
   ],
   "source": [
    "y4 = r\"[a-zA-Z]\" #[ - ] specifies the type of an element\n",
    "print(re.search(y4,x))"
   ]
  },
  {
   "cell_type": "code",
   "execution_count": 33,
   "metadata": {},
   "outputs": [],
   "source": [
    "x = \"CGAAGCCCGGAACGAAGCCGC\""
   ]
  },
  {
   "cell_type": "code",
   "execution_count": 34,
   "metadata": {},
   "outputs": [
    {
     "name": "stdout",
     "output_type": "stream",
     "text": [
      "<re.Match object; span=(1, 4), match='GAA'>\n"
     ]
    }
   ],
   "source": [
    "y1 = r\"GA*\"#* after A means no or one or multiple A\n",
    "print(re.search(y1,x))"
   ]
  },
  {
   "cell_type": "code",
   "execution_count": 35,
   "metadata": {},
   "outputs": [
    {
     "name": "stdout",
     "output_type": "stream",
     "text": [
      "<re.Match object; span=(1, 4), match='GAA'>\n"
     ]
    }
   ],
   "source": [
    "y2 = r\"GA+\"#+ after A means one or multiple A\n",
    "print(re.search(y2,x))"
   ]
  },
  {
   "cell_type": "code",
   "execution_count": 37,
   "metadata": {},
   "outputs": [
    {
     "name": "stdout",
     "output_type": "stream",
     "text": [
      "<re.Match object; span=(1, 4), match='GAA'>\n"
     ]
    }
   ],
   "source": [
    "y3 = r\"GA{2}\"#{2} after A means 2 A\n",
    "print(re.search(y3,x))"
   ]
  },
  {
   "cell_type": "code",
   "execution_count": 43,
   "metadata": {},
   "outputs": [],
   "source": [
    "x = \"(123) 456-7890\""
   ]
  },
  {
   "cell_type": "code",
   "execution_count": 44,
   "metadata": {},
   "outputs": [
    {
     "name": "stdout",
     "output_type": "stream",
     "text": [
      "<re.Match object; span=(0, 14), match='(123) 456-7890'>\n"
     ]
    }
   ],
   "source": [
    "y = r\"^\\D*(\\d{3})\\D*(\\d{3})\\D*(\\d{4})$\"\n",
    "# \\D is everthing that's not a digit, \\d is a digit, \\w is a word\n",
    "print(re.search(y,x))"
   ]
  },
  {
   "cell_type": "code",
   "execution_count": 80,
   "metadata": {},
   "outputs": [
    {
     "name": "stdout",
     "output_type": "stream",
     "text": [
      "('Tom-Jane', 'Jerry-Doe')\n",
      "Tom-Jane\n",
      "Jerry-Doe\n"
     ]
    }
   ],
   "source": [
    "#flag\n",
    "y = r'''\n",
    "    ^                        #match beginning of string\n",
    "    (?P<first_name>[A-Z-]+)  #match first name\n",
    "    \\s+                      #match space between names\n",
    "    (?P<last_name>[A-Z-]+)   #match last name\n",
    "    $                        #match end of string\n",
    "'''\n",
    "x = \"Tom-Jane Jerry-Doe\"\n",
    "flags = (\n",
    "    re.IGNORECASE | #match against upper and lower case with one case\n",
    "    re.VERBOSE #match with comments\n",
    ")\n",
    "match = re.match(y, x, flags = flags) #with flags, it is match() here\n",
    "\n",
    "print(match.groups())\n",
    "print(match.group('first_name'))\n",
    "print(match.group('last_name'))"
   ]
  },
  {
   "cell_type": "code",
   "execution_count": null,
   "metadata": {},
   "outputs": [],
   "source": []
  }
 ],
 "metadata": {
  "kernelspec": {
   "display_name": "Python 3",
   "language": "python",
   "name": "python3"
  },
  "language_info": {
   "codemirror_mode": {
    "name": "ipython",
    "version": 3
   },
   "file_extension": ".py",
   "mimetype": "text/x-python",
   "name": "python",
   "nbconvert_exporter": "python",
   "pygments_lexer": "ipython3",
   "version": "3.8.3"
  }
 },
 "nbformat": 4,
 "nbformat_minor": 4
}
