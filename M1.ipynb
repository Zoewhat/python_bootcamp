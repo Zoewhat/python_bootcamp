{
 "cells": [
  {
   "cell_type": "code",
   "execution_count": 2,
   "metadata": {},
   "outputs": [
    {
     "data": {
      "text/plain": [
       "1"
      ]
     },
     "execution_count": 2,
     "metadata": {},
     "output_type": "execute_result"
    }
   ],
   "source": [
    "5 % 2 #modulo operator"
   ]
  },
  {
   "cell_type": "code",
   "execution_count": 3,
   "metadata": {},
   "outputs": [
    {
     "data": {
      "text/plain": [
       "1000.0"
      ]
     },
     "execution_count": 3,
     "metadata": {},
     "output_type": "execute_result"
    }
   ],
   "source": [
    "1e3 #scientific notation"
   ]
  },
  {
   "cell_type": "code",
   "execution_count": 6,
   "metadata": {},
   "outputs": [],
   "source": [
    "None #empty "
   ]
  },
  {
   "cell_type": "code",
   "execution_count": 5,
   "metadata": {},
   "outputs": [
    {
     "data": {
      "text/plain": [
       "True"
      ]
     },
     "execution_count": 5,
     "metadata": {},
     "output_type": "execute_result"
    }
   ],
   "source": [
    "bool('something') #boolean"
   ]
  },
  {
   "cell_type": "code",
   "execution_count": 7,
   "metadata": {},
   "outputs": [
    {
     "data": {
      "text/plain": [
       "4"
      ]
     },
     "execution_count": 7,
     "metadata": {},
     "output_type": "execute_result"
    }
   ],
   "source": [
    "False or 4 #either or"
   ]
  },
  {
   "cell_type": "code",
   "execution_count": 8,
   "metadata": {},
   "outputs": [
    {
     "data": {
      "text/plain": [
       "True"
      ]
     },
     "execution_count": 8,
     "metadata": {},
     "output_type": "execute_result"
    }
   ],
   "source": [
    "True or 5"
   ]
  },
  {
   "cell_type": "code",
   "execution_count": 10,
   "metadata": {},
   "outputs": [
    {
     "data": {
      "text/plain": [
       "140458624193008"
      ]
     },
     "execution_count": 10,
     "metadata": {},
     "output_type": "execute_result"
    }
   ],
   "source": [
    "id('something') #checking id"
   ]
  },
  {
   "cell_type": "code",
   "execution_count": 12,
   "metadata": {},
   "outputs": [
    {
     "name": "stdout",
     "output_type": "stream",
     "text": [
      "False\n",
      "False\n",
      "True\n"
     ]
    },
    {
     "name": "stderr",
     "output_type": "stream",
     "text": [
      "<>:1: SyntaxWarning: \"is\" with a literal. Did you mean \"==\"?\n",
      "<>:2: SyntaxWarning: \"is\" with a literal. Did you mean \"==\"?\n",
      "<>:3: SyntaxWarning: \"is\" with a literal. Did you mean \"==\"?\n",
      "<>:1: SyntaxWarning: \"is\" with a literal. Did you mean \"==\"?\n",
      "<>:2: SyntaxWarning: \"is\" with a literal. Did you mean \"==\"?\n",
      "<>:3: SyntaxWarning: \"is\" with a literal. Did you mean \"==\"?\n",
      "<ipython-input-12-4c247e62580f>:1: SyntaxWarning: \"is\" with a literal. Did you mean \"==\"?\n",
      "  print(3 is 5) # compare identities\n",
      "<ipython-input-12-4c247e62580f>:2: SyntaxWarning: \"is\" with a literal. Did you mean \"==\"?\n",
      "  print(5 is [5])\n",
      "<ipython-input-12-4c247e62580f>:3: SyntaxWarning: \"is\" with a literal. Did you mean \"==\"?\n",
      "  print(5 is 5)\n"
     ]
    }
   ],
   "source": [
    "print(3 is 5) # compare identities, 'is' is a more critical condition\n",
    "print(5 is [5])\n",
    "print(5 is 5)"
   ]
  },
  {
   "cell_type": "code",
   "execution_count": 14,
   "metadata": {},
   "outputs": [
    {
     "data": {
      "text/plain": [
       "'text1text2text3'"
      ]
     },
     "execution_count": 14,
     "metadata": {},
     "output_type": "execute_result"
    }
   ],
   "source": [
    "'text2'.join([\"text1\",\"text3\"]) #adding strings, string can't be subtracted"
   ]
  },
  {
   "cell_type": "code",
   "execution_count": 15,
   "metadata": {},
   "outputs": [
    {
     "data": {
      "text/plain": [
       "'text1text2text3'"
      ]
     },
     "execution_count": 15,
     "metadata": {},
     "output_type": "execute_result"
    }
   ],
   "source": [
    "first = \"text2\" #adding strings_2\n",
    "last = \"text3\"\n",
    "f\"text1{first}{last}\""
   ]
  },
  {
   "cell_type": "code",
   "execution_count": 17,
   "metadata": {},
   "outputs": [
    {
     "data": {
      "text/plain": [
       "'text1text2text3'"
      ]
     },
     "execution_count": 17,
     "metadata": {},
     "output_type": "execute_result"
    }
   ],
   "source": [
    "\"text1{}{}\".format(first,last)#adding strings_3"
   ]
  },
  {
   "cell_type": "code",
   "execution_count": 18,
   "metadata": {},
   "outputs": [
    {
     "data": {
      "text/plain": [
       "'xt1'"
      ]
     },
     "execution_count": 18,
     "metadata": {},
     "output_type": "execute_result"
    }
   ],
   "source": [
    "\"text1\"[-3:] #index"
   ]
  },
  {
   "cell_type": "code",
   "execution_count": 19,
   "metadata": {},
   "outputs": [
    {
     "name": "stdout",
     "output_type": "stream",
     "text": [
      "2\n",
      "3\n"
     ]
    }
   ],
   "source": [
    "def fun(x,y=1): #using function\n",
    "    return x+y\n",
    "print(fun(1))\n",
    "print(fun(1,2))"
   ]
  },
  {
   "cell_type": "code",
   "execution_count": 21,
   "metadata": {},
   "outputs": [
    {
     "data": {
      "text/plain": [
       "[1, 2]"
      ]
     },
     "execution_count": 21,
     "metadata": {},
     "output_type": "execute_result"
    }
   ],
   "source": [
    "list(range(1,3)) #range is closed"
   ]
  },
  {
   "cell_type": "code",
   "execution_count": 22,
   "metadata": {},
   "outputs": [
    {
     "data": {
      "text/plain": [
       "2"
      ]
     },
     "execution_count": 22,
     "metadata": {},
     "output_type": "execute_result"
    }
   ],
   "source": [
    "import random #randint is closed\n",
    "random.randint(1,2)"
   ]
  },
  {
   "cell_type": "code",
   "execution_count": 23,
   "metadata": {},
   "outputs": [
    {
     "name": "stdout",
     "output_type": "stream",
     "text": [
      "Collecting catzzz\n",
      "  Downloading catzzz-0.1.6.tar.gz (6.9 kB)\n",
      "Building wheels for collected packages: catzzz\n",
      "  Building wheel for catzzz (setup.py) ... \u001b[?25ldone\n",
      "\u001b[?25h  Created wheel for catzzz: filename=catzzz-0.1.6-py3-none-any.whl size=8050 sha256=9897bd16b3650aaaf73c266e0bf627ecfa011472556f7599ac24f33078b89f33\n",
      "  Stored in directory: /Users/zhouziyi/Library/Caches/pip/wheels/7f/6d/45/d7acbacec0e35c4cc726574a8b046bb3cc30eec5d448cf513c\n",
      "Successfully built catzzz\n",
      "Installing collected packages: catzzz\n",
      "Successfully installed catzzz-0.1.6\n"
     ]
    }
   ],
   "source": [
    "!pip install catzzz"
   ]
  },
  {
   "cell_type": "code",
   "execution_count": 26,
   "metadata": {},
   "outputs": [
    {
     "name": "stdout",
     "output_type": "stream",
     "text": [
      "\n",
      "                  ;,_            ,\n",
      "                 _uP~\"b          d\"u,\n",
      "                dP'   \"b       ,d\"  \"o\n",
      "               d\"    , `b     d\"'    \"b\n",
      "              l] [    \" `l,  d\"       lb\n",
      "              Ol ?     \"  \"b`\"=uoqo,_  \"l\n",
      "            ,dBb \"b        \"b,    `\"~~TObup,_\n",
      "          ,d\" (db.`\"         \"\"     \"tbc,_ `~\"Yuu,_\n",
      "        .d\" l`T'  '=                      ~     `\"\"Yu,\n",
      "      ,dO` gP,                           `u,   b,_  \"b7\n",
      "     d?' ,d\" l,                           `\"b,_ `~b  \"1\n",
      "   ,8i' dl   `l                 ,ggQOV\",dbgq,._\"  `l  lb\n",
      "  .df' (O,    \"             ,ggQY\"~  , @@@@@d\"bd~  `b \"1\n",
      " .df'   `\"           -=@QgpOY\"\"     (b  @@@@P db    `Lp\"b,\n",
      ".d(                  _               \"ko \"=d_,Q`  ,_  \"  \"b,\n",
      "Ql         .         `\"qo,._          \"tQo,_`\"\"bo ;tb,    `\"b,\n",
      "qQ         |L           ~\"QQQgggc,_.,dObc,opooO  `\"~~\";.   __,7,\n",
      "qp         t\\io,_           `~\"TOOggQV\"\"\"\"        _,dg,_ =PIQHib.\n",
      "`qp        `Q[\"tQQQo,_                          ,pl{QOP\"'   7AFR`\n",
      "  `         `tb  '\"\"tQQQg,_             p\" \"b   `       .;-.`Vl'\n",
      "             \"Yb      `\"tQOOo,__    _,edb    ` .__   /`/'|  |b;=;.__\n",
      "                           `\"tQQQOOOOP\"\"`\"\\QV;qQObob\"`-._`\\_~~-._\n",
      "                                \"\"\"\"    ._        /   | |oP\"\\_   ~\\ ~\\_~\\\n",
      "                                        `~\"\\ic,qggddOOP\"|  |  ~\\   `\\~-._\n",
      "                                          ,qP`\"\"\"|\"   | `\\ `;   `\\   `\\\n",
      "                               _        _,p\"     |    |   `\\`;    |    |\n",
      "       unknown                 \"boo,._dP\"       `\\_  `\\    `\\|   `\\   ;\n",
      "                                 `\"7tY~'            `\\  `\\    `|_   |\n",
      "                                                      `~\\  |\n",
      "\n",
      "\n",
      "   ____\n",
      "  (.   \\\n",
      "    \\  |\n",
      "     \\ |___(\\--/)\n",
      "   __/    (  . . )\n",
      "  \"'._.    '-.O.'\n",
      "       '-.  \\ \"|\\\n",
      "          '.,,/'.,,mrf\n",
      "\n",
      "\n",
      "      ( \\\n",
      "       \\ \\\n",
      "       / /                |\\\\\n",
      "      / /     .-`````-.   / ^`-.\n",
      "      \\ \\    /         \\_/  {|} `o\n",
      "       \\ \\  /   .---.   \\\\ _  ,--'\n",
      "        \\ \\/   /     \\,  \\( `^^^\n",
      "         \\   \\/\\      (\\  )\n",
      "          \\   ) \\     ) \\ \\\n",
      "      jgs  ) /__ \\__  ) (\\ \\___\n",
      "          (___)))__))(__))(__)))\n",
      "\n",
      "\n",
      "                   .               ,.\n",
      "                  T.\"-._..---.._,-\"/|\n",
      "                  l|\"-.  _.v._   (\" |\n",
      "                  [l /.'_ \\; _~\"-.`-t\n",
      "                  Y \" _(o} _{o)._ ^.|\n",
      "                  j  T  ,-<v>-.  T  ]\n",
      "                  \\  l ( /-^-\\ ) !  !\n",
      "                   \\. \\.  \"~\"  ./  /c-..,__\n",
      "                     ^r- .._ .- .-\"  `- .  ~\"--.\n",
      "                      > \\.                      \\\n",
      "                      ]   ^.                     \\\n",
      "                      3  .  \">            .       Y  -Row\n",
      "         ,.__.--._   _j   \\ ~   .         ;       |\n",
      "        (    ~\"-._~\"^._\\   ^.    ^._      I     . l\n",
      "         \"-._ ___ ~\"-,_7    .Z-._   7\"   Y      ;  \\        _\n",
      "            /\"   \"~-(r r  _/_--._~-/    /      /,.--^-._   / Y\n",
      "            \"-._    '\"~~~>-._~]>--^---./____,.^~        ^.^  !\n",
      "                ~--._    '   Y---.                        \\./\n",
      "                     ~~--._  l_   )                        \\\n",
      "                           ~-._~~~---._,____..---           \\\n",
      "                               ~----\"~       \\\n",
      "\n",
      "\n",
      "      \\    /\\\n",
      "       )  ( ')\n",
      "      (  /  )\n",
      " jgs   \\(__)|\n",
      "\n",
      "\n",
      "                       ,\n",
      "                      /|\n",
      "                 ___,/'\\\n",
      "             ,-\"`    ~ `;\n",
      "            .`\\  /     `\\.\n",
      "          ,/_ _ |\\       `\\   ,--,__,-\"\n",
      "    ,_,-'\"`   \\`\\ `- ,     \\ /     /   _/\n",
      "      `\"~-\\    \\    /  .-' |/         /\n",
      "           `\\ __, .-; '.-' /\n",
      "             `\\_. `-'__, _/   _/\n",
      "               `\\`  /`__/    /\n",
      "              _,-`--'/\n",
      "           .-\"     _/   /    /\n",
      "          /   _,-\"`/  /'    /\n",
      "          \\__/ jgs\n",
      "\n",
      "\n",
      "              .__....._             _.....__,\n",
      "                 .\": o :':         ;': o :\".\n",
      "                 `. `-' .'.       .'. `-' .'\n",
      "                   `---'             `---'\n",
      "        |                                          |\n",
      "         _...----...      ...   ...      ...----..._\n",
      "      .-'__..-\"\"'----    `.  `\"`  .'    ----'\"\"-..__`-.\n",
      "     '.-'   _.--\"\"\"'       `-._.-'       '\"\"\"--._   `-.`\n",
      "     '  .-\"'                  :                  `\"-.  `\n",
      "       '   `.              _.'\"'._              .'   `\n",
      "             `.       ,.-'\"       \"'-.,       .'\n",
      "               `.                           .'\n",
      "          jgs    `-._                   _.-'\n",
      "                     `\"'--...___...--'\"`\n",
      "\n",
      "\n",
      " ((      /|_/|\n",
      "  \\\\.._.'  , ,\\\n",
      "  /\\ | '.__ v /\n",
      " (_ .   /   \"\n",
      "  ) _)._  _ /\n",
      " '.\\ \\|( / ( mrf\n",
      "   '' ''\\\\ \\\\\n",
      "\n",
      "\n",
      "            _,'|             _.-''``-...___..--';)\n",
      "           /_ \\'.      __..-' ,      ,--...--'''\n",
      "          <\\    .`--'''       `     /'\n",
      "           `-';'               ;   ; ;\n",
      "     __...--''     ___...--_..'  .;.'\n",
      "    (,__....----'''       (,..--''   Felix Lee\n",
      "\n",
      "\n",
      "    (\"`-''-/\").___..--''\"`-._\n",
      "     `6_ 6  )   `-.  (     ).`-.__.`)\n",
      "     (_Y_.)'  ._   )  `._ `. ``-..-'\n",
      "   _..`--'_..-_/  /--'_.' ,'\n",
      "  (il),-''  (li),'  ((!.-'    Felix Lee\n",
      "\n",
      "\n",
      "     (\"`-/\")_.-'\"``-._\n",
      "      . . `; -._    )-;-,_`)\n",
      "     (v_,)'  _  )`-.\\  ``-'\n",
      "    _.- _..-_/ / ((.'\n",
      "  ((,.-'   ((,/    Felix Lee\n",
      "\n",
      "\n",
      "   |\\      _,,,---,,_\n",
      "   /,`.-'`'    -.  ;-;;,_\n",
      "  |,4-  ) )-,_..;\\ (  `'-'\n",
      " '---''(_/--'  `-'\\_)  Felix Lee\n",
      "\n",
      "\n",
      "    (\"`-''-/\").___..--''\"`-._\n",
      "     `6_ 6  )   `-.  (     ).`-.__.`)\n",
      "     (_Y_.)'  ._   )  `._ `. ``-..-'\n",
      "   _..`--'_..-_/  /--'_.' ,'\n",
      "  (il).-''  (li).'  ((!.-'\n",
      "   )\\._.,--....,'``.\n",
      "  /,   _.. \\   _\\  (`._ ,.\n",
      " `._.-(,_..'--(,_..'`-.;.'  Felix Lee\n",
      "\n",
      "\n",
      "      _.---.._             _.---...__\n",
      "   .-'   /\\   \\          .'  /\\     /\n",
      "   `.   (  )   \\        /   (  )   /\n",
      "     `.  \\/   .'\\      /`.   \\/  .'\n",
      "       ``---''   )    (   ``---''\n",
      "               .';.--.;`.\n",
      "             .' /_...._\\ `.\n",
      "           .'   `.a  a.'   `.\n",
      "          (        \\/        )\n",
      "           `.___..-'`-..___.'\n",
      "              \\          /\n",
      "               `-.____.-'  Felix Lee\n",
      "\n",
      "\n",
      "   |\\      _,,,---,,_\n",
      "   /,`.-'`'    -.  ;-;;,_\n",
      "  |,4-  ) )-,_..;\\ (  `'-'\n",
      " '---''(_/--'  `-'\\_)\n",
      "\n",
      "\n",
      "              __..--''``---....___   _..._    __\n",
      "    /// //_.-'    .-/\";  `        ``<._  ``.''_ `. / // /\n",
      "   ///_.-' _..--.'_    \\                    `( ) ) // //\n",
      "   / (_..-' // (< _     ;_..__               ; `' / ///\n",
      "    / // // //  `-._,_)' // / ``--...____..-' /// / //\n",
      "Felix Lee\n",
      "\n",
      "\n",
      "           __..--''``\\--....___   _..,_\n",
      "       _.-'    .-/\";  `        ``<._  ``-+'~=.\n",
      "   _.-' _..--.'_    \\                    `(^) )\n",
      "  ((..-'    (< _     ;_..__               ; `'   fL\n",
      "             `-._,_)'      ``--...____..-'\n",
      "\n",
      "\n",
      "             _,'|             _.-''``-...___..--';)\n",
      "           /_ \\'.      __..-' ,      ,--...--'''\n",
      "          <\\    .`--'''       `     /'\n",
      "           `-';'               ;   ; ;\n",
      "     __...--''     ___...--_..'  .;.'\n",
      "    (,__....----'''       (,..--''\n",
      "\n",
      "\n",
      "                       (`.-,')\n",
      "                     .-'     ;\n",
      "                 _.-'   , `,-\n",
      "           _ _.-'     .'  /._\n",
      "         .' `  _.-.  /  ,'._;)\n",
      "        (       .  )-| (\n",
      "         )`,_ ,'_,'  \\_;)\n",
      " ('_  _,'.'  (___,))\n",
      "  `-:;.-'\n",
      "\n",
      "\n",
      "                                 _\n",
      "                                | \\\n",
      "                                | |\n",
      "                                | |\n",
      "           |\\                   | |\n",
      "          /, ~\\                / /\n",
      "         X     `-.....-------./ /\n",
      "          ~-. ~  ~              |\n",
      "             \\             /    |\n",
      "              \\  /_     ___\\   /\n",
      "              | /\\ ~~~~~   \\ |\n",
      "              | | \\        || |\n",
      "              | |\\ \\       || )\n",
      "             (_/ (_/      ((_/\n",
      "\n",
      "\n",
      "      ,/|         _.--''^``-...___.._.,;\n",
      "     /, \\'.     _-'          ,--,,,--'''\n",
      "    { \\    `_-''       '    /}\n",
      "     `;;'            ;   ; ;\n",
      " ._.--''     ._,,, _..'  .;.'\n",
      "  (,_....----'''     (,..--''\n",
      "\n"
     ]
    }
   ],
   "source": [
    "import catzzz"
   ]
  },
  {
   "cell_type": "code",
   "execution_count": null,
   "metadata": {},
   "outputs": [],
   "source": []
  }
 ],
 "metadata": {
  "kernelspec": {
   "display_name": "Python 3",
   "language": "python",
   "name": "python3"
  },
  "language_info": {
   "codemirror_mode": {
    "name": "ipython",
    "version": 3
   },
   "file_extension": ".py",
   "mimetype": "text/x-python",
   "name": "python",
   "nbconvert_exporter": "python",
   "pygments_lexer": "ipython3",
   "version": "3.8.3"
  }
 },
 "nbformat": 4,
 "nbformat_minor": 4
}
