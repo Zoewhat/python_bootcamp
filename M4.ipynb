{
 "cells": [
  {
   "cell_type": "code",
   "execution_count": 1,
   "metadata": {},
   "outputs": [],
   "source": [
    "#************************Computational_Complexity************************"
   ]
  },
  {
   "cell_type": "code",
   "execution_count": 2,
   "metadata": {},
   "outputs": [],
   "source": [
    "#O(<function to represent the worst case runtime given some size of data>)\n",
    "#Ω(<function to represent the best case runtime given some size of data>)"
   ]
  },
  {
   "cell_type": "code",
   "execution_count": 6,
   "metadata": {},
   "outputs": [
    {
     "data": {
      "text/plain": [
       "False"
      ]
     },
     "execution_count": 6,
     "metadata": {},
     "output_type": "execute_result"
    }
   ],
   "source": [
    "#Binary Search, O(log2n)\n",
    "def binary_search(x,data):\n",
    "    if not data:\n",
    "        return False\n",
    "    middle_index = len(data) // 2 #// 是取整\n",
    "    middle_value = data[middle_index]\n",
    "    \n",
    "    if middle_value == x:\n",
    "        return True\n",
    "    \n",
    "    elif middle_value < x:\n",
    "        data_after_middle = data[middle_index + 1:]\n",
    "        return binary_search(x, data_after_middle)\n",
    "    \n",
    "    elif middle_value > x:\n",
    "        data_before_middle = data[:middle_index]\n",
    "        return binary_search(x, data_before_middle)\n",
    "    \n",
    "    return False\n",
    "binary_search(11,list(range(10)))"
   ]
  },
  {
   "cell_type": "code",
   "execution_count": 7,
   "metadata": {},
   "outputs": [],
   "source": [
    "#Bubble Sort O(n^2)"
   ]
  },
  {
   "cell_type": "code",
   "execution_count": 8,
   "metadata": {},
   "outputs": [],
   "source": [
    "#Data Structs: linked list, stacks(LIFO), Queue(FIFO), Maps, Hash Tables"
   ]
  },
  {
   "cell_type": "code",
   "execution_count": 10,
   "metadata": {},
   "outputs": [
    {
     "name": "stdout",
     "output_type": "stream",
     "text": [
      "<__main__.Node object at 0x7f9fd1e5c3d0>\n",
      "<__main__.Node object at 0x7f9fd1e5c040>\n",
      "<__main__.Node object at 0x7f9fd1e5c220>\n"
     ]
    }
   ],
   "source": [
    "#[?]Linked List\n",
    "class Node:\n",
    "    def __init__(self, value, next_ = None):\n",
    "        self.value = value\n",
    "        self.next = next_\n",
    "a = Node(5, None)\n",
    "b = Node(5, Node(2,Node(9,Node(1))))\n",
    "# 5 -> 2 -> 9 ->1\n",
    "print(b)\n",
    "print(b.next)\n",
    "print(b.next.next)"
   ]
  },
  {
   "cell_type": "code",
   "execution_count": null,
   "metadata": {},
   "outputs": [],
   "source": []
  }
 ],
 "metadata": {
  "kernelspec": {
   "display_name": "Python 3",
   "language": "python",
   "name": "python3"
  },
  "language_info": {
   "codemirror_mode": {
    "name": "ipython",
    "version": 3
   },
   "file_extension": ".py",
   "mimetype": "text/x-python",
   "name": "python",
   "nbconvert_exporter": "python",
   "pygments_lexer": "ipython3",
   "version": "3.8.3"
  }
 },
 "nbformat": 4,
 "nbformat_minor": 4
}
